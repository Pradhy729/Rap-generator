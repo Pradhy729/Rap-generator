{
 "cells": [
  {
   "cell_type": "code",
   "execution_count": 20,
   "metadata": {},
   "outputs": [],
   "source": [
    "import numpy as np \n",
    "import pandas as pd\n",
    "import matplotlib.pyplot as plt\n",
    "\n",
    "from tqdm import tqdm_notebook\n",
    "import seaborn as sns\n",
    "plt.style.use('fivethirtyeight')"
   ]
  },
  {
   "cell_type": "code",
   "execution_count": 21,
   "metadata": {},
   "outputs": [
    {
     "data": {
      "text/plain": [
       "(560000, 2)"
      ]
     },
     "execution_count": 21,
     "metadata": {},
     "output_type": "execute_result"
    }
   ],
   "source": [
    "train_df = pd.read_csv('Data/yelp_review_polarity_csv/train.csv', header=None)\n",
    "train_df.shape"
   ]
  },
  {
   "cell_type": "code",
   "execution_count": 22,
   "metadata": {},
   "outputs": [
    {
     "data": {
      "text/html": [
       "<div>\n",
       "<style scoped>\n",
       "    .dataframe tbody tr th:only-of-type {\n",
       "        vertical-align: middle;\n",
       "    }\n",
       "\n",
       "    .dataframe tbody tr th {\n",
       "        vertical-align: top;\n",
       "    }\n",
       "\n",
       "    .dataframe thead th {\n",
       "        text-align: right;\n",
       "    }\n",
       "</style>\n",
       "<table border=\"1\" class=\"dataframe\">\n",
       "  <thead>\n",
       "    <tr style=\"text-align: right;\">\n",
       "      <th></th>\n",
       "      <th>0</th>\n",
       "      <th>1</th>\n",
       "    </tr>\n",
       "  </thead>\n",
       "  <tbody>\n",
       "    <tr>\n",
       "      <th>0</th>\n",
       "      <td>1</td>\n",
       "      <td>Unfortunately, the frustration of being Dr. Go...</td>\n",
       "    </tr>\n",
       "    <tr>\n",
       "      <th>1</th>\n",
       "      <td>2</td>\n",
       "      <td>Been going to Dr. Goldberg for over 10 years. ...</td>\n",
       "    </tr>\n",
       "    <tr>\n",
       "      <th>2</th>\n",
       "      <td>1</td>\n",
       "      <td>I don't know what Dr. Goldberg was like before...</td>\n",
       "    </tr>\n",
       "    <tr>\n",
       "      <th>3</th>\n",
       "      <td>1</td>\n",
       "      <td>I'm writing this review to give you a heads up...</td>\n",
       "    </tr>\n",
       "    <tr>\n",
       "      <th>4</th>\n",
       "      <td>2</td>\n",
       "      <td>All the food is great here. But the best thing...</td>\n",
       "    </tr>\n",
       "  </tbody>\n",
       "</table>\n",
       "</div>"
      ],
      "text/plain": [
       "   0                                                  1\n",
       "0  1  Unfortunately, the frustration of being Dr. Go...\n",
       "1  2  Been going to Dr. Goldberg for over 10 years. ...\n",
       "2  1  I don't know what Dr. Goldberg was like before...\n",
       "3  1  I'm writing this review to give you a heads up...\n",
       "4  2  All the food is great here. But the best thing..."
      ]
     },
     "execution_count": 22,
     "metadata": {},
     "output_type": "execute_result"
    }
   ],
   "source": [
    "train_df.head()"
   ]
  },
  {
   "cell_type": "code",
   "execution_count": 23,
   "metadata": {},
   "outputs": [
    {
     "data": {
      "text/plain": [
       "(38000, 2)"
      ]
     },
     "execution_count": 23,
     "metadata": {},
     "output_type": "execute_result"
    }
   ],
   "source": [
    "test_df = pd.read_csv('Data/yelp_review_polarity_csv/test.csv', header=None)\n",
    "test_df.shape"
   ]
  },
  {
   "cell_type": "code",
   "execution_count": 24,
   "metadata": {},
   "outputs": [],
   "source": [
    "train_df['Label'] = train_df[0].apply(lambda x:int(x==2))"
   ]
  },
  {
   "cell_type": "code",
   "execution_count": 25,
   "metadata": {},
   "outputs": [
    {
     "data": {
      "text/plain": [
       "<bound method NDFrame.head of             id  label alpha                                               text\n",
       "0            0      0     a  Unfortunately, the frustration of being Dr. Go...\n",
       "1            1      1     a  Been going to Dr. Goldberg for over 10 years. ...\n",
       "2            2      0     a  I don't know what Dr. Goldberg was like before...\n",
       "3            3      0     a  I'm writing this review to give you a heads up...\n",
       "4            4      1     a  All the food is great here. But the best thing...\n",
       "5            5      0     a  Wing sauce is like water. Pretty much a lot of...\n",
       "6            6      0     a  Owning a driving range inside the city limits ...\n",
       "7            7      0     a  This place is absolute garbage...  Half of the...\n",
       "8            8      1     a  Before I finally made it over to this range I ...\n",
       "9            9      1     a  I drove by yesterday to get a sneak peak.  It ...\n",
       "10          10      0     a  After waiting for almost 30 minutes to trade i...\n",
       "11          11      1     a  Wonderful reuben.  Map shown on Yelp page is i...\n",
       "12          12      1     a  After a morning of Thrift Store hunting, a fri...\n",
       "13          13      1     a  This is a hidden gem, no really. It took us fo...\n",
       "14          14      1     a  Awesome drink specials during happy hour. Fant...\n",
       "15          15      0     a  Very disappointed in the customer service. We ...\n",
       "16          16      0     a  Used to go there for tires, brakes, etc.  Thei...\n",
       "17          17      0     a  I got 'new' tires from them and within two wee...\n",
       "18          18      0     a  Terrible. Preordered my tires and when I arriv...\n",
       "19          19      1     a  I've been informed by a fellow Yelper that the...\n",
       "20          20      0     a  Don't waste your time.  We had two different p...\n",
       "21          21      0     a  I will start by saying we have a nice new deck...\n",
       "22          22      0     a                                            Hoofah.\n",
       "23          23      0     a  Average run of the mill store.  Associates are...\n",
       "24          24      0     a  Two meals, on the recommendation of a friend w...\n",
       "25          25      1     a  If you are searching for a go to fish place fo...\n",
       "26          26      1     a  Italian dinners, American, endless soup and sa...\n",
       "27          27      1     a  Good Luck getting a seat, that's all I have to...\n",
       "28          28      1     a  The biggest breakfast in Pittsburgh, as far as...\n",
       "29          29      1     a  Cheap, unpretentious, and, for this, one of my...\n",
       "...        ...    ...   ...                                                ...\n",
       "559970  559970      1     a  Hard choosing a place to eat when you're on th...\n",
       "559971  559971      1     a  Woooo!!!! Love this place!!! Missed ir soooo m...\n",
       "559972  559972      0     a  Don't go here.  I know you might want to try i...\n",
       "559973  559973      0     a  I had high hopes for this place. When I learne...\n",
       "559974  559974      0     a  Went to checkers on a friends recommendation t...\n",
       "559975  559975      1     a  The food at this place is amazing. My favorite...\n",
       "559976  559976      1     a  Love this place! The portions are generous but...\n",
       "559977  559977      1     a  My wife and I live in the area and are pleasan...\n",
       "559978  559978      0     a  Went for dinner with friends tonight. The plac...\n",
       "559979  559979      1     a  Great ambiance, absolutely love the decor, ver...\n",
       "559980  559980      1     a  Red Rice serves the best chicken kelaguen!  \\n...\n",
       "559981  559981      1     a  As a person who have lots of Chamorro friends,...\n",
       "559982  559982      0     a  Buffet was recently open after renovation so m...\n",
       "559983  559983      0     a  Having moved 15 times and having been referred...\n",
       "559984  559984      1     a  We had the best experience. The movers were su...\n",
       "559985  559985      0     a  A man came to the house to estimate. He gave m...\n",
       "559986  559986      1     a  Scottsdale Beer Company has only been open 2 d...\n",
       "559987  559987      1     a  Just found my new favorite hang out. This plac...\n",
       "559988  559988      0     a  Really disappointing. Either the place was hav...\n",
       "559989  559989      1     a  When Corey sent the email about tickets being ...\n",
       "559990  559990      0     a  Wow, really?  Bought one item from them, a ham...\n",
       "559991  559991      1     a  We tried the Cheese Danish w lemon. Creamy, fl...\n",
       "559992  559992      0     a  Long line, inefficient staff. Maybe my expecta...\n",
       "559993  559993      0     a  First: Please note that many people are review...\n",
       "559994  559994      0     a  I'm shocked everyone time I go to a Bouchon Ba...\n",
       "559995  559995      1     a  Ryan was as good as everyone on yelp has claim...\n",
       "559996  559996      1     a  Professional \\nFriendly\\nOn time AND affordabl...\n",
       "559997  559997      0     a  Phone calls always go to voicemail and message...\n",
       "559998  559998      0     a  Looks like all of the good reviews have gone t...\n",
       "559999  559999      1     a  Ryan Rocks! I called him this morning for some...\n",
       "\n",
       "[560000 rows x 4 columns]>"
      ]
     },
     "execution_count": 25,
     "metadata": {},
     "output_type": "execute_result"
    }
   ],
   "source": [
    "train_df = pd.DataFrame({'id':train_df.index.values, 'label':train_df['Label'],\n",
    "                        'alpha':['a']*train_df.shape[0], 'text':train_df[1].replace(r'\\n',' ', regex=True) })\n",
    "train_df.head"
   ]
  },
  {
   "cell_type": "code",
   "execution_count": 26,
   "metadata": {},
   "outputs": [
    {
     "data": {
      "text/html": [
       "<div>\n",
       "<style scoped>\n",
       "    .dataframe tbody tr th:only-of-type {\n",
       "        vertical-align: middle;\n",
       "    }\n",
       "\n",
       "    .dataframe tbody tr th {\n",
       "        vertical-align: top;\n",
       "    }\n",
       "\n",
       "    .dataframe thead th {\n",
       "        text-align: right;\n",
       "    }\n",
       "</style>\n",
       "<table border=\"1\" class=\"dataframe\">\n",
       "  <thead>\n",
       "    <tr style=\"text-align: right;\">\n",
       "      <th></th>\n",
       "      <th>id</th>\n",
       "      <th>label</th>\n",
       "      <th>alpha</th>\n",
       "      <th>text</th>\n",
       "    </tr>\n",
       "  </thead>\n",
       "  <tbody>\n",
       "    <tr>\n",
       "      <th>0</th>\n",
       "      <td>0</td>\n",
       "      <td>1</td>\n",
       "      <td>a</td>\n",
       "      <td>Contrary to other reviews, I have zero complai...</td>\n",
       "    </tr>\n",
       "    <tr>\n",
       "      <th>1</th>\n",
       "      <td>1</td>\n",
       "      <td>0</td>\n",
       "      <td>a</td>\n",
       "      <td>Last summer I had an appointment to get new ti...</td>\n",
       "    </tr>\n",
       "    <tr>\n",
       "      <th>2</th>\n",
       "      <td>2</td>\n",
       "      <td>1</td>\n",
       "      <td>a</td>\n",
       "      <td>Friendly staff, same starbucks fair you get an...</td>\n",
       "    </tr>\n",
       "    <tr>\n",
       "      <th>3</th>\n",
       "      <td>3</td>\n",
       "      <td>0</td>\n",
       "      <td>a</td>\n",
       "      <td>The food is good. Unfortunately the service is...</td>\n",
       "    </tr>\n",
       "    <tr>\n",
       "      <th>4</th>\n",
       "      <td>4</td>\n",
       "      <td>1</td>\n",
       "      <td>a</td>\n",
       "      <td>Even when we didn't have a car Filene's Baseme...</td>\n",
       "    </tr>\n",
       "  </tbody>\n",
       "</table>\n",
       "</div>"
      ],
      "text/plain": [
       "   id  label alpha                                               text\n",
       "0   0      1     a  Contrary to other reviews, I have zero complai...\n",
       "1   1      0     a  Last summer I had an appointment to get new ti...\n",
       "2   2      1     a  Friendly staff, same starbucks fair you get an...\n",
       "3   3      0     a  The food is good. Unfortunately the service is...\n",
       "4   4      1     a  Even when we didn't have a car Filene's Baseme..."
      ]
     },
     "execution_count": 26,
     "metadata": {},
     "output_type": "execute_result"
    }
   ],
   "source": [
    "test_df = pd.DataFrame({'id':test_df.index.values, 'label':test_df[0].apply(lambda x:int(x==2)),\n",
    "                        'alpha':['a']*test_df.shape[0], 'text':test_df[1].replace(r'\\n',' ', regex=True) })\n",
    "test_df.head()"
   ]
  },
  {
   "cell_type": "code",
   "execution_count": null,
   "metadata": {},
   "outputs": [],
   "source": []
  }
 ],
 "metadata": {
  "kernelspec": {
   "display_name": "Python 3",
   "language": "python",
   "name": "python3"
  },
  "language_info": {
   "codemirror_mode": {
    "name": "ipython",
    "version": 3
   },
   "file_extension": ".py",
   "mimetype": "text/x-python",
   "name": "python",
   "nbconvert_exporter": "python",
   "pygments_lexer": "ipython3",
   "version": "3.7.6"
  }
 },
 "nbformat": 4,
 "nbformat_minor": 2
}
