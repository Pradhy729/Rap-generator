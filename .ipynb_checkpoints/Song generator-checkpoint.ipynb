{
 "cells": [
  {
   "cell_type": "code",
   "execution_count": 1,
   "metadata": {},
   "outputs": [],
   "source": [
    "import numpy as np\n",
    "import pandas as pd\n",
    "import matplotlib.pyplot as plt\n",
    "import seaborn as sns\n",
    "\n",
    "plt.style.use('fivethirtyeight')"
   ]
  },
  {
   "cell_type": "code",
   "execution_count": 2,
   "metadata": {},
   "outputs": [
    {
     "name": "stderr",
     "output_type": "stream",
     "text": [
      "Using TensorFlow backend.\n"
     ]
    }
   ],
   "source": [
    "from __future__ import print_function\n",
    "from keras.callbacks import LambdaCallback\n",
    "from keras.models import Sequential\n",
    "from keras import Model\n",
    "from keras.layers import Dense, LSTM, Input, Dropout, Activation\n",
    "from keras.optimizers import RMSprop, Adam\n",
    "from keras.utils.data_utils import get_file\n",
    "import numpy as np\n",
    "import random\n",
    "import sys\n",
    "import io\n",
    "from bs4 import BeautifulSoup\n",
    "import pandas as pd\n",
    "import requests\n",
    "import json\n",
    "from urllib.request import urlopen\n",
    "import urllib.request\n",
    "import re "
   ]
  },
  {
   "cell_type": "code",
   "execution_count": 3,
   "metadata": {},
   "outputs": [],
   "source": [
    "def get_lyrics(artist,song_title):\n",
    "    artist = artist.lower()\n",
    "    song_title = song_title.lower()\n",
    "    # remove all except alphanumeric characters from artist and song_title\n",
    "    artist = re.sub('[^A-Za-z0-9]+', \"\", artist)\n",
    "    song_title = re.sub('[^A-Za-z0-9]+', \"\", song_title)\n",
    "    if artist.startswith(\"the\"):    # remove starting 'the' from artist e.g. the who -> who\n",
    "        artist = artist[3:]\n",
    "    url = \"http://azlyrics.com/lyrics/\"+artist+\"/\"+song_title+\".html\"\n",
    "    \n",
    "    try:\n",
    "        content = urllib.request.urlopen(url).read()\n",
    "        soup = BeautifulSoup(content, 'html.parser')\n",
    "        lyrics = str(soup)\n",
    "        # lyrics lies between up_partition and down_partition\n",
    "        up_partition = '<!-- Usage of azlyrics.com content by any third-party lyrics provider is prohibited by our licensing agreement. Sorry about that. -->'\n",
    "        down_partition = '<!-- MxM banner -->'\n",
    "        lyrics = lyrics.split(up_partition)[1]\n",
    "        lyrics = lyrics.split(down_partition)[0]\n",
    "        lyrics = lyrics.replace('<br>','').replace('</br>','').replace('</div>','').replace('<br/>','').strip()\n",
    "        return lyrics\n",
    "    except Exception as e:\n",
    "        return \"Exception occurred \\n\" +str(e)"
   ]
  },
  {
   "cell_type": "code",
   "execution_count": 4,
   "metadata": {},
   "outputs": [],
   "source": [
    "\n",
    "def create_corpus(artist_name):\n",
    "    url = 'http://lyrics.wikia.com/wiki/' + artist_name\n",
    "    r = requests.get(url)\n",
    "    soup = BeautifulSoup(r.text, 'lxml')\n",
    "\n",
    "    count=0\n",
    "    data=[]\n",
    "\n",
    "    # Parse the data to get list of songs and urls\n",
    "    for album in soup.find_all(class_='album-art'):\n",
    "        count += 1\n",
    "        for song in album.find_next('ol').children:\n",
    "            try:\n",
    "                a = re.search('\\:(.*)', song.b.a['href'])\n",
    "                data.append({\n",
    "                    'url': song.b.a['href'],\n",
    "                    'name': a.group(1)\n",
    "                })\n",
    "            except:\n",
    "                continue\n",
    "    df = pd.DataFrame(data, columns=[\"url\",\"name\"])\n",
    "    print('Collecting {0} songs for {1}'.format(df.shape[0],artist_name))\n",
    "    corpus = ''\n",
    "    for ind, row in df.iterrows():\n",
    "        #print('Collecting song: {}'.format(row['name']))\n",
    "        corpus += '\\n' + get_lyrics(artist_name,row['name'])\n",
    "    print('Writing song corpus for {}'.format(artist_name))\n",
    "    with open(artist_name+\"_corpus.txt\", \"w\") as text_file:\n",
    "        text_file.write(corpus)\n",
    "\n"
   ]
  },
  {
   "cell_type": "code",
   "execution_count": 5,
   "metadata": {},
   "outputs": [],
   "source": [
    "artist_name = 'shakespeare'"
   ]
  },
  {
   "cell_type": "code",
   "execution_count": 6,
   "metadata": {},
   "outputs": [],
   "source": [
    "def get_corpus_sequence(artist_name):\n",
    "    from pathlib import Path\n",
    "    my_file = Path(artist_name+'_corpus.txt')\n",
    "    if not my_file.is_file():\n",
    "        print('Corpus doesn\\'t already exit for {}'.format(artist_name))\n",
    "        create_corpus(artist_name)\n",
    "    with open(artist_name+'_corpus.txt','r',encoding='utf8') as f:\n",
    "        print('Gathering and processing sequence or text')\n",
    "        text = f.read().lower().replace('\\n',' \\n ')\n",
    "    text_seq = [word for word in text.split(' ') if word.strip != '']\n",
    "    return text_seq"
   ]
  },
  {
   "cell_type": "code",
   "execution_count": 12,
   "metadata": {},
   "outputs": [
    {
     "name": "stdout",
     "output_type": "stream",
     "text": [
      "Gathering and processing sequence or text\n"
     ]
    }
   ],
   "source": [
    "text_seq = get_corpus_sequence(artist_name)\n",
    "#text = ''.join(text_seq)"
   ]
  },
  {
   "cell_type": "code",
   "execution_count": 13,
   "metadata": {},
   "outputs": [
    {
     "data": {
      "text/plain": [
       "19672"
      ]
     },
     "execution_count": 13,
     "metadata": {},
     "output_type": "execute_result"
    }
   ],
   "source": [
    "len(text_seq)"
   ]
  },
  {
   "cell_type": "code",
   "execution_count": 14,
   "metadata": {},
   "outputs": [
    {
     "name": "stdout",
     "output_type": "stream",
     "text": [
      "Unique words before ignoring: 4381\n",
      "Ignoring words with frequency < 1\n",
      "Unique words after ignoring: 4381\n"
     ]
    }
   ],
   "source": [
    "# Calculate word frequency\n",
    "word_freq = {}\n",
    "for word in text_seq:\n",
    "    word_freq[word] = word_freq.get(word, 0) + 1\n",
    "MIN_WORD_FREQUENCY = 1\n",
    "ignored_words = set()\n",
    "for k, v in word_freq.items():\n",
    "    if word_freq[k] < MIN_WORD_FREQUENCY:\n",
    "        ignored_words.add(k)\n",
    "\n",
    "words = set(text_seq)\n",
    "print('Unique words before ignoring:', len(words))\n",
    "print('Ignoring words with frequency <', MIN_WORD_FREQUENCY)\n",
    "words = sorted(set(words) - ignored_words)\n",
    "print('Unique words after ignoring:', len(words))\n",
    "\n",
    "text_seq = [word for word in text_seq if word not in ignored_words]\n",
    "word_indices = dict((c, i) for i, c in enumerate(words))\n",
    "indices_word = dict((i, c) for i, c in enumerate(words))\n"
   ]
  },
  {
   "cell_type": "code",
   "execution_count": 15,
   "metadata": {},
   "outputs": [
    {
     "name": "stdout",
     "output_type": "stream",
     "text": [
      "Ignored sequences: 0\n",
      "Remaining sequences: 19667\n"
     ]
    }
   ],
   "source": [
    "# cut the text in semi-redundant sequences of SEQUENCE_LEN words\n",
    "STEP = 1\n",
    "SEQUENCE_LEN = 5\n",
    "sentences = []\n",
    "next_words = []\n",
    "ignored = 0\n",
    "for i in range(0, len(text_seq) - SEQUENCE_LEN, STEP):\n",
    "    # Only add sequences where no word is in ignored_words\n",
    "    if len(set(text_seq[i: i+SEQUENCE_LEN+1]).intersection(ignored_words)) == 0:\n",
    "        sentences.append(text_seq[i: i + SEQUENCE_LEN])\n",
    "        next_words.append(text_seq[i + SEQUENCE_LEN])\n",
    "    else:\n",
    "        ignored = ignored+1\n",
    "print('Ignored sequences:', ignored)\n",
    "print('Remaining sequences:', len(sentences))"
   ]
  },
  {
   "cell_type": "code",
   "execution_count": 16,
   "metadata": {},
   "outputs": [
    {
     "name": "stdout",
     "output_type": "stream",
     "text": [
      "Vectorization...\n"
     ]
    },
    {
     "data": {
      "text/plain": [
       "((19667, 5, 4381), (19667, 4381))"
      ]
     },
     "execution_count": 16,
     "metadata": {},
     "output_type": "execute_result"
    }
   ],
   "source": [
    "print('Vectorization...')\n",
    "x = np.zeros((len(sentences), SEQUENCE_LEN, len(words)), dtype=np.bool)\n",
    "y = np.zeros((len(sentences), len(words)), dtype=np.bool)\n",
    "for i, sentence in enumerate(sentences):\n",
    "    for t, word in enumerate(sentence):\n",
    "        x[i, t, word_indices[word]] = 1\n",
    "    y[i, word_indices[next_words[i]]] = 1\n",
    "x.shape, y.shape"
   ]
  },
  {
   "cell_type": "code",
   "execution_count": 17,
   "metadata": {},
   "outputs": [
    {
     "name": "stdout",
     "output_type": "stream",
     "text": [
      "Build model...\n"
     ]
    }
   ],
   "source": [
    "# build the model: a single LSTM\n",
    "print('Build model...')\n",
    "inputs = Input(shape=(SEQUENCE_LEN,len(words)))\n",
    "X = LSTM(units=128, return_sequences=True)(inputs)\n",
    "X = Dropout(0.4)(X)\n",
    "X = LSTM(units=64)(X)\n",
    "X = Dropout(0.4)(X)\n",
    "X = Dense(len(words), activation='softmax')(X)\n",
    "\n",
    "model = Model(inputs=inputs,outputs=X)"
   ]
  },
  {
   "cell_type": "code",
   "execution_count": 18,
   "metadata": {},
   "outputs": [
    {
     "name": "stdout",
     "output_type": "stream",
     "text": [
      "Model: \"model_1\"\n",
      "_________________________________________________________________\n",
      "Layer (type)                 Output Shape              Param #   \n",
      "=================================================================\n",
      "input_1 (InputLayer)         (None, 5, 4381)           0         \n",
      "_________________________________________________________________\n",
      "lstm_1 (LSTM)                (None, 5, 128)            2309120   \n",
      "_________________________________________________________________\n",
      "dropout_1 (Dropout)          (None, 5, 128)            0         \n",
      "_________________________________________________________________\n",
      "lstm_2 (LSTM)                (None, 64)                49408     \n",
      "_________________________________________________________________\n",
      "dropout_2 (Dropout)          (None, 64)                0         \n",
      "_________________________________________________________________\n",
      "dense_1 (Dense)              (None, 4381)              284765    \n",
      "=================================================================\n",
      "Total params: 2,643,293\n",
      "Trainable params: 2,643,293\n",
      "Non-trainable params: 0\n",
      "_________________________________________________________________\n"
     ]
    }
   ],
   "source": [
    "model.compile(loss='categorical_crossentropy', optimizer=Adam(), metrics=['acc'])\n",
    "model.summary()"
   ]
  },
  {
   "cell_type": "code",
   "execution_count": 19,
   "metadata": {},
   "outputs": [],
   "source": [
    "# Use genrator to create batches of training examples to train the model"
   ]
  },
  {
   "cell_type": "code",
   "execution_count": 20,
   "metadata": {},
   "outputs": [],
   "source": [
    "def sample(preds, temperature=1.0):\n",
    "    # helper function to sample an index from a probability array\n",
    "    preds = np.asarray(preds).astype('float64')\n",
    "    preds = np.log(preds) / temperature\n",
    "    exp_preds = np.exp(preds)\n",
    "    preds = exp_preds / np.sum(exp_preds)\n",
    "    probas = np.random.multinomial(1, preds, 1)\n",
    "    return np.argmax(probas)"
   ]
  },
  {
   "cell_type": "code",
   "execution_count": 21,
   "metadata": {},
   "outputs": [],
   "source": [
    "def on_epoch_end(epoch, _):\n",
    "    # Function invoked at end of each epoch. Prints generated text.\n",
    "    if epoch%10 == 0:\n",
    "        print()\n",
    "        print('----- Generating text after Epoch: %d' % epoch)\n",
    "\n",
    "        start_index = random.randint(0, len(text_seq) - SEQUENCE_LEN - 1)\n",
    "        generated = ''\n",
    "        sentence = ' '.join(text_seq[start_index: start_index + SEQUENCE_LEN])\n",
    "        generated += sentence\n",
    "        print('----- Generating with seed: \"' + sentence + '\"')\n",
    "        sys.stdout.write(generated)\n",
    "\n",
    "        for i in range(50):\n",
    "            x_pred = np.zeros((1, SEQUENCE_LEN, len(words)))\n",
    "            for t, word in enumerate(sentence.split(' ')):\n",
    "                x_pred[0, t, word_indices[word]] = 1.\n",
    "\n",
    "            preds = model.predict(x_pred, verbose=0)[0]\n",
    "            next_index = sample(preds)\n",
    "            next_word = indices_word[next_index]\n",
    "\n",
    "            sentence = ' '.join(sentence.split(' ')[1:]) + ' ' +next_word\n",
    "    \n",
    "            sys.stdout.write(' ' + next_word)\n",
    "            sys.stdout.flush()\n",
    "        print()"
   ]
  },
  {
   "cell_type": "code",
   "execution_count": 22,
   "metadata": {},
   "outputs": [
    {
     "name": "stdout",
     "output_type": "stream",
     "text": [
      "Epoch 1/100\n",
      "19667/19667 [==============================] - 81s 4ms/step - loss: 6.8706 - acc: 0.1088\n",
      "\n",
      "----- Generating text after Epoch: 0\n",
      "----- Generating with seed: \"on better judgment making. \n",
      "\"\n",
      "on better judgment making. \n",
      " \n",
      " the world so thou very me yet, beauty's you large mind their so drinks fear the and afresh deeds clouds with doth that show under and plot and is to let abundance keep 'will,' sweets in with \n",
      " wretched be? \n",
      " perusal eyes, i thee sight, myself and canst\n",
      "Epoch 2/100\n",
      "19667/19667 [==============================] - 78s 4ms/step - loss: 6.4671 - acc: 0.1097\n",
      "Epoch 3/100\n",
      "19667/19667 [==============================] - 80s 4ms/step - loss: 6.3725 - acc: 0.1096\n",
      "Epoch 4/100\n",
      "19667/19667 [==============================] - 79s 4ms/step - loss: 6.2599 - acc: 0.1096\n",
      "Epoch 5/100\n",
      "19667/19667 [==============================] - 85s 4ms/step - loss: 6.1486 - acc: 0.1097\n",
      "Epoch 6/100\n",
      "19667/19667 [==============================] - 82s 4ms/step - loss: 6.0245 - acc: 0.1097\n",
      "Epoch 7/100\n",
      "19667/19667 [==============================] - 86s 4ms/step - loss: 5.8856 - acc: 0.1125\n",
      "Epoch 8/100\n",
      "19667/19667 [==============================] - 89s 5ms/step - loss: 5.7562 - acc: 0.1203\n",
      "Epoch 9/100\n",
      "19667/19667 [==============================] - 92s 5ms/step - loss: 5.6530 - acc: 0.1247\n",
      "Epoch 10/100\n",
      "19667/19667 [==============================] - 84s 4ms/step - loss: 5.5729 - acc: 0.1292\n",
      "Epoch 11/100\n",
      "19667/19667 [==============================] - 82s 4ms/step - loss: 5.4999 - acc: 0.1326\n",
      "\n",
      "----- Generating text after Epoch: 10\n",
      "----- Generating with seed: \"he's king \n",
      " are vanishing\"\n",
      "he's king \n",
      " are vanishing it teach dare in change the sworn \n",
      " in sin for that far one gold dost before \n",
      " for fearing love, to all than verse, \n",
      " and that my a lend beauty's themselves \n",
      " to thine, that may be brought be put their and outward do \n",
      " head, say doth\n",
      "Epoch 12/100\n",
      "19667/19667 [==============================] - 80s 4ms/step - loss: 5.4304 - acc: 0.1371\n",
      "Epoch 13/100\n",
      "19667/19667 [==============================] - 80s 4ms/step - loss: 5.3672 - acc: 0.1418\n",
      "Epoch 14/100\n",
      "19667/19667 [==============================] - 80s 4ms/step - loss: 5.3000 - acc: 0.1438\n",
      "Epoch 15/100\n",
      "19667/19667 [==============================] - 81s 4ms/step - loss: 5.2356 - acc: 0.1476\n",
      "Epoch 16/100\n",
      "19667/19667 [==============================] - 85s 4ms/step - loss: 5.1748 - acc: 0.1500\n",
      "Epoch 17/100\n",
      "19667/19667 [==============================] - 91s 5ms/step - loss: 5.0998 - acc: 0.1515\n",
      "Epoch 18/100\n",
      "19667/19667 [==============================] - 85s 4ms/step - loss: 5.0353 - acc: 0.1565\n",
      "Epoch 19/100\n",
      "19667/19667 [==============================] - 84s 4ms/step - loss: 4.9753 - acc: 0.1571\n",
      "Epoch 20/100\n",
      "19667/19667 [==============================] - 98s 5ms/step - loss: 4.9058 - acc: 0.1635\n",
      "Epoch 21/100\n",
      "19667/19667 [==============================] - 83s 4ms/step - loss: 4.8579 - acc: 0.1634\n",
      "\n",
      "----- Generating text after Epoch: 20\n",
      "----- Generating with seed: \"art cruel; do not press\"\n",
      "art cruel; do not press \n",
      " the married blots with i in to others' wink \n",
      " i i how summer's possess'd false smell covetous \n",
      " when for lords' i when thyself love, \n",
      " all vex'd to gazeth; to that it? the gift roses neglect and within faces, 'fair, sullied in muse, \n",
      " he from to\n",
      "Epoch 22/100\n",
      "19667/19667 [==============================] - 90s 5ms/step - loss: 4.7873 - acc: 0.1712\n",
      "Epoch 23/100\n",
      "19667/19667 [==============================] - 98s 5ms/step - loss: 4.7266 - acc: 0.1728\n",
      "Epoch 24/100\n",
      "19667/19667 [==============================] - 75s 4ms/step - loss: 4.6807 - acc: 0.1746\n",
      "Epoch 25/100\n",
      "19667/19667 [==============================] - 70s 4ms/step - loss: 4.6195 - acc: 0.1803\n",
      "Epoch 26/100\n",
      "19667/19667 [==============================] - 75s 4ms/step - loss: 4.5722 - acc: 0.1797\n",
      "Epoch 27/100\n",
      "19667/19667 [==============================] - 77s 4ms/step - loss: 4.5153 - acc: 0.1863\n",
      "Epoch 28/100\n",
      "19667/19667 [==============================] - 90s 5ms/step - loss: 4.4695 - acc: 0.1874\n",
      "Epoch 29/100\n",
      "19667/19667 [==============================] - 89s 5ms/step - loss: 4.4144 - acc: 0.1924\n",
      "Epoch 30/100\n",
      "19667/19667 [==============================] - 74s 4ms/step - loss: 4.3650 - acc: 0.1949\n",
      "Epoch 31/100\n",
      "19667/19667 [==============================] - 72s 4ms/step - loss: 4.3090 - acc: 0.1995\n",
      "\n",
      "----- Generating text after Epoch: 30\n",
      "----- Generating with seed: \"is it thy will thy\"\n",
      "is it thy will thy eyes doth bankrupt \n",
      " of merit? of lend was spend \n",
      " in form and where thee, worms thy best. \n",
      " and when thou praise pitying dwell, \n",
      " things hath the silence from steep and for hand her stops \n",
      " at shall worth to picture in or in i youth, \n",
      "\n",
      "Epoch 32/100\n",
      "19667/19667 [==============================] - 70s 4ms/step - loss: 4.2629 - acc: 0.2036\n",
      "Epoch 33/100\n",
      "19667/19667 [==============================] - 97s 5ms/step - loss: 4.2014 - acc: 0.2082\n",
      "Epoch 34/100\n",
      "19667/19667 [==============================] - 84s 4ms/step - loss: 4.1591 - acc: 0.2130\n",
      "Epoch 35/100\n",
      "19667/19667 [==============================] - 83s 4ms/step - loss: 4.1038 - acc: 0.2159\n",
      "Epoch 36/100\n",
      "19667/19667 [==============================] - 81s 4ms/step - loss: 4.0652 - acc: 0.2180\n",
      "Epoch 37/100\n",
      "19667/19667 [==============================] - 96s 5ms/step - loss: 4.0081 - acc: 0.2240\n",
      "Epoch 38/100\n",
      "19667/19667 [==============================] - 80s 4ms/step - loss: 3.9615 - acc: 0.2310\n",
      "Epoch 39/100\n",
      "19667/19667 [==============================] - 80s 4ms/step - loss: 3.9228 - acc: 0.2338\n",
      "Epoch 40/100\n",
      "19667/19667 [==============================] - 99s 5ms/step - loss: 3.8755 - acc: 0.2388\n",
      "Epoch 41/100\n",
      "19667/19667 [==============================] - 94s 5ms/step - loss: 3.8299 - acc: 0.2441\n",
      "\n",
      "----- Generating text after Epoch: 40\n",
      "----- Generating with seed: \"so long lives this and\"\n",
      "so long lives this and it from well ruminate, \n",
      " that yet do day by sing: thee praise. be, you is desert, \n",
      " and thou, for new shall lives \n",
      " in when set time, by thy heart, die! \n",
      " or if that surety-like with better receivest \n",
      " enough absence eat a thoughts to heart of\n",
      "Epoch 42/100\n",
      "19667/19667 [==============================] - 80s 4ms/step - loss: 3.7761 - acc: 0.2509\n",
      "Epoch 43/100\n",
      "19667/19667 [==============================] - 96s 5ms/step - loss: 3.7364 - acc: 0.2534\n",
      "Epoch 44/100\n",
      "19667/19667 [==============================] - 74s 4ms/step - loss: 3.6949 - acc: 0.2593\n",
      "Epoch 45/100\n",
      "19667/19667 [==============================] - 87s 4ms/step - loss: 3.6476 - acc: 0.2634\n",
      "Epoch 46/100\n",
      "19667/19667 [==============================] - 77s 4ms/step - loss: 3.6115 - acc: 0.2714\n",
      "Epoch 47/100\n",
      "19667/19667 [==============================] - 76s 4ms/step - loss: 3.5706 - acc: 0.2774\n",
      "Epoch 48/100\n",
      "19667/19667 [==============================] - 72s 4ms/step - loss: 3.5172 - acc: 0.2849\n",
      "Epoch 49/100\n",
      "19667/19667 [==============================] - 68s 3ms/step - loss: 3.4861 - acc: 0.2891\n",
      "Epoch 50/100\n",
      "19667/19667 [==============================] - 70s 4ms/step - loss: 3.4451 - acc: 0.2931\n",
      "Epoch 51/100\n",
      "19667/19667 [==============================] - 72s 4ms/step - loss: 3.3960 - acc: 0.3015\n",
      "\n",
      "----- Generating text after Epoch: 50\n",
      "----- Generating with seed: \"were but sweet, but figures\"\n",
      "were but sweet, but figures of watch \n",
      " even they if self, the robe of me \n",
      " \n",
      " when i next no should built staineth. \n",
      " then, even to pencil, do in guilded bring? \n",
      " and the doth brave black force, \n",
      " make i she blessed-fair to wit, prove, pleasure, \n",
      " \n",
      " swear is was\n",
      "Epoch 52/100\n",
      "19667/19667 [==============================] - 67s 3ms/step - loss: 3.3461 - acc: 0.3074\n",
      "Epoch 53/100\n",
      "19667/19667 [==============================] - 67s 3ms/step - loss: 3.3179 - acc: 0.3081\n",
      "Epoch 54/100\n",
      "19667/19667 [==============================] - 69s 4ms/step - loss: 3.2844 - acc: 0.3127\n",
      "Epoch 55/100\n",
      "19667/19667 [==============================] - 66s 3ms/step - loss: 3.2444 - acc: 0.3202\n",
      "Epoch 56/100\n",
      "19667/19667 [==============================] - 66s 3ms/step - loss: 3.2001 - acc: 0.3306\n",
      "Epoch 57/100\n",
      "19667/19667 [==============================] - 66s 3ms/step - loss: 3.1679 - acc: 0.3322\n",
      "Epoch 58/100\n",
      "19667/19667 [==============================] - 66s 3ms/step - loss: 3.1333 - acc: 0.3409\n",
      "Epoch 59/100\n",
      "19667/19667 [==============================] - 66s 3ms/step - loss: 3.0958 - acc: 0.3499\n",
      "Epoch 60/100\n"
     ]
    },
    {
     "name": "stdout",
     "output_type": "stream",
     "text": [
      "19667/19667 [==============================] - 64s 3ms/step - loss: 3.0482 - acc: 0.3572\n",
      "Epoch 61/100\n",
      "19667/19667 [==============================] - 64s 3ms/step - loss: 3.0167 - acc: 0.3590\n",
      "\n",
      "----- Generating text after Epoch: 60\n",
      "----- Generating with seed: \"pity me then and wish\"\n",
      "pity me then and wish i eternal him being deem'd to shalt this dost decay. \n",
      " then i have at five welcome, love-god with see governs day to bosom men's \n",
      " with all simple general time? \n",
      " and mourning live to time \n",
      " and eternal new shall friend my variation \n",
      " some nothing. \n",
      " but\n",
      "Epoch 62/100\n",
      "19667/19667 [==============================] - 66s 3ms/step - loss: 2.9923 - acc: 0.3589\n",
      "Epoch 63/100\n",
      "19667/19667 [==============================] - 67s 3ms/step - loss: 2.9521 - acc: 0.3724\n",
      "Epoch 64/100\n",
      "19667/19667 [==============================] - 63s 3ms/step - loss: 2.9139 - acc: 0.3761\n",
      "Epoch 65/100\n",
      "19667/19667 [==============================] - 65s 3ms/step - loss: 2.8875 - acc: 0.3828\n",
      "Epoch 66/100\n",
      "19667/19667 [==============================] - 63s 3ms/step - loss: 2.8483 - acc: 0.3916\n",
      "Epoch 67/100\n",
      "19667/19667 [==============================] - 64s 3ms/step - loss: 2.8066 - acc: 0.3973\n",
      "Epoch 68/100\n",
      "19667/19667 [==============================] - 63s 3ms/step - loss: 2.7922 - acc: 0.3993\n",
      "Epoch 69/100\n",
      "19667/19667 [==============================] - 64s 3ms/step - loss: 2.7433 - acc: 0.4053\n",
      "Epoch 70/100\n",
      "19667/19667 [==============================] - 116s 6ms/step - loss: 2.7217 - acc: 0.4140\n",
      "Epoch 71/100\n",
      "19667/19667 [==============================] - 94s 5ms/step - loss: 2.6965 - acc: 0.4142\n",
      "\n",
      "----- Generating text after Epoch: 70\n",
      "----- Generating with seed: \"he takes thee hence. \n",
      "\"\n",
      "he takes thee hence. \n",
      " o, in say were that death ten will beloved to deceased did \n",
      " to hers alters in not sweet would will some to years ill, \n",
      " all to chance doth public age breath heaven, which devise doth your ill, \n",
      " and the wise were that like at your mistress want\n",
      "Epoch 72/100\n",
      "19667/19667 [==============================] - 99s 5ms/step - loss: 2.6537 - acc: 0.4243\n",
      "Epoch 73/100\n",
      "19667/19667 [==============================] - 105s 5ms/step - loss: 2.6147 - acc: 0.4302\n",
      "Epoch 74/100\n",
      "19667/19667 [==============================] - 92s 5ms/step - loss: 2.5967 - acc: 0.4358\n",
      "Epoch 75/100\n",
      "19667/19667 [==============================] - 89s 5ms/step - loss: 2.5688 - acc: 0.4403\n",
      "Epoch 76/100\n",
      "19667/19667 [==============================] - 88s 4ms/step - loss: 2.5513 - acc: 0.4436\n",
      "Epoch 77/100\n",
      "19667/19667 [==============================] - 87s 4ms/step - loss: 2.5080 - acc: 0.4529\n",
      "Epoch 78/100\n",
      "19667/19667 [==============================] - 100s 5ms/step - loss: 2.4756 - acc: 0.4570\n",
      "Epoch 79/100\n",
      "19667/19667 [==============================] - 97s 5ms/step - loss: 2.4487 - acc: 0.4631\n",
      "Epoch 80/100\n",
      "19667/19667 [==============================] - 93s 5ms/step - loss: 2.4277 - acc: 0.4669\n",
      "Epoch 81/100\n",
      "19667/19667 [==============================] - 94s 5ms/step - loss: 2.4046 - acc: 0.4729\n",
      "\n",
      "----- Generating text after Epoch: 80\n",
      "----- Generating with seed: \"truth \n",
      " askance and strangely:\"\n",
      "truth \n",
      " askance and strangely: unthrift by i monument to thine, in mine own precious own all pace \n",
      " my truth and would do yourself on forgoing with blood \n",
      " nor edge. canker i my day sinks \n",
      " to constancy patience with in own hours, \n",
      " and nine do fool, why made my profit flame\n",
      "Epoch 82/100\n",
      "19667/19667 [==============================] - 93s 5ms/step - loss: 2.3788 - acc: 0.4808\n",
      "Epoch 83/100\n",
      "19667/19667 [==============================] - 104s 5ms/step - loss: 2.3350 - acc: 0.4885\n",
      "Epoch 84/100\n",
      "19667/19667 [==============================] - 99s 5ms/step - loss: 2.3115 - acc: 0.4933\n",
      "Epoch 85/100\n",
      "19667/19667 [==============================] - 82s 4ms/step - loss: 2.2866 - acc: 0.4953\n",
      "Epoch 86/100\n",
      "19667/19667 [==============================] - 76s 4ms/step - loss: 2.2610 - acc: 0.5001\n",
      "Epoch 87/100\n",
      "19667/19667 [==============================] - 73s 4ms/step - loss: 2.2386 - acc: 0.5063\n",
      "Epoch 88/100\n",
      "19667/19667 [==============================] - 81s 4ms/step - loss: 2.2158 - acc: 0.5055\n",
      "Epoch 89/100\n",
      "19667/19667 [==============================] - 84s 4ms/step - loss: 2.1960 - acc: 0.5120\n",
      "Epoch 90/100\n",
      "19667/19667 [==============================] - 108s 5ms/step - loss: 2.1560 - acc: 0.5199\n",
      "Epoch 91/100\n",
      "19667/19667 [==============================] - 97s 5ms/step - loss: 2.1413 - acc: 0.5249\n",
      "\n",
      "----- Generating text after Epoch: 90\n",
      "----- Generating with seed: \"for't lies in thee \n",
      "\"\n",
      "for't lies in thee \n",
      " to you fresh only against and master-mistress my sweet require. \n",
      " than laid what was you idle grace, \n",
      " and both thy bloody spoils tend? \n",
      " speak to my less, if thee, to all give? \n",
      " yet usurer, this dear rage \n",
      " and far 'fore tongue-tied, proved of thy dream\n",
      "Epoch 92/100\n",
      "19667/19667 [==============================] - 108s 5ms/step - loss: 2.1108 - acc: 0.5291\n",
      "Epoch 93/100\n",
      "19667/19667 [==============================] - 98s 5ms/step - loss: 2.0818 - acc: 0.5334\n",
      "Epoch 94/100\n",
      "19667/19667 [==============================] - 93s 5ms/step - loss: 2.0678 - acc: 0.5372\n",
      "Epoch 95/100\n",
      "19667/19667 [==============================] - 98s 5ms/step - loss: 2.0490 - acc: 0.5393\n",
      "Epoch 96/100\n",
      "19667/19667 [==============================] - 83s 4ms/step - loss: 2.0195 - acc: 0.5447\n",
      "Epoch 97/100\n",
      "19667/19667 [==============================] - 93s 5ms/step - loss: 2.0098 - acc: 0.5529\n",
      "Epoch 98/100\n",
      "19667/19667 [==============================] - 90s 5ms/step - loss: 1.9743 - acc: 0.5589\n",
      "Epoch 99/100\n",
      "19667/19667 [==============================] - 93s 5ms/step - loss: 1.9616 - acc: 0.5597\n",
      "Epoch 100/100\n",
      "19667/19667 [==============================] - 84s 4ms/step - loss: 1.9457 - acc: 0.5652\n"
     ]
    }
   ],
   "source": [
    "print_callback = LambdaCallback(on_epoch_end=on_epoch_end)\n",
    "model_history = model.fit(x,y,batch_size=64,epochs=100,callbacks=[print_callback])"
   ]
  },
  {
   "cell_type": "code",
   "execution_count": 23,
   "metadata": {},
   "outputs": [
    {
     "data": {
      "text/plain": [
       "<matplotlib.axes._subplots.AxesSubplot at 0x21929f0a518>"
      ]
     },
     "execution_count": 23,
     "metadata": {},
     "output_type": "execute_result"
    },
    {
     "data": {
      "image/png": "[encoded data removed]",
      "text/plain": [
       "<Figure size 864x864 with 1 Axes>"
      ]
     },
     "metadata": {
      "needs_background": "light"
     },
     "output_type": "display_data"
    }
   ],
   "source": [
    "plt.subplots(figsize=(12,12))\n",
    "sns.lineplot(x=range(100),y=model_history.history['acc'])\n",
    "sns.lineplot(x=range(100),y=model_history.history['loss'])"
   ]
  },
  {
   "cell_type": "code",
   "execution_count": null,
   "metadata": {},
   "outputs": [],
   "source": []
  },
  {
   "cell_type": "code",
   "execution_count": null,
   "metadata": {},
   "outputs": [],
   "source": []
  }
 ],
 "metadata": {
  "kernelspec": {
   "display_name": "Python 3",
   "language": "python",
   "name": "python3"
  },
  "language_info": {
   "codemirror_mode": {
    "name": "ipython",
    "version": 3
   },
   "file_extension": ".py",
   "mimetype": "text/x-python",
   "name": "python",
   "nbconvert_exporter": "python",
   "pygments_lexer": "ipython3",
   "version": "3.5.2"
  }
 },
 "nbformat": 4,
 "nbformat_minor": 2
}
